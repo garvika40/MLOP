{
 "cells": [
  {
   "cell_type": "code",
   "execution_count": 1,
   "id": "a3d4cf5e-e9be-4571-8deb-2a2348aca33a",
   "metadata": {},
   "outputs": [],
   "source": [
    "import pandas as pd"
   ]
  },
  {
   "cell_type": "code",
   "execution_count": 2,
   "id": "13f4a775-c442-43cd-bedb-82ce69ad3776",
   "metadata": {},
   "outputs": [],
   "source": [
    "path = 'simpsons_script_lines.csv'"
   ]
  },
  {
   "cell_type": "code",
   "execution_count": 3,
   "id": "84cec93b-6d1f-461d-9588-8a02c214d929",
   "metadata": {},
   "outputs": [
    {
     "name": "stderr",
     "output_type": "stream",
     "text": [
      "C:\\Users\\kruti\\AppData\\Local\\Temp\\ipykernel_7660\\3280352130.py:1: DtypeWarning: Columns (4,5,6) have mixed types. Specify dtype option on import or set low_memory=False.\n",
      "  df = pd.read_csv(path)\n"
     ]
    }
   ],
   "source": [
    "df = pd.read_csv(path)"
   ]
  },
  {
   "cell_type": "code",
   "execution_count": 4,
   "id": "b70a34ef-aaaa-4c4d-8a20-da5b87b99fe7",
   "metadata": {},
   "outputs": [
    {
     "data": {
      "text/plain": [
       "Homer Simpson            29842\n",
       "Marge Simpson            14159\n",
       "Bart Simpson             13777\n",
       "Lisa Simpson             11502\n",
       "C. Montgomery Burns       3172\n",
       "                         ...  \n",
       "Santa's Little Helper       74\n",
       "Annie Crawford              74\n",
       "Artie Ziff                  73\n",
       "Young Marge                 72\n",
       "George H.W. Bush            72\n",
       "Name: raw_character_text, Length: 100, dtype: int64"
      ]
     },
     "execution_count": 4,
     "metadata": {},
     "output_type": "execute_result"
    }
   ],
   "source": [
    "df.raw_character_text.value_counts()[:100]"
   ]
  },
  {
   "cell_type": "code",
   "execution_count": 5,
   "id": "4daef8e6-0390-4722-884d-3e85cb658e53",
   "metadata": {},
   "outputs": [],
   "source": [
    "episodes = 'simpsons_episodes.csv'"
   ]
  },
  {
   "cell_type": "code",
   "execution_count": 6,
   "id": "a4b8fc65-d2aa-404b-a684-691f6ea7fce6",
   "metadata": {},
   "outputs": [],
   "source": [
    "ep_df = pd.read_csv(episodes)"
   ]
  },
  {
   "cell_type": "code",
   "execution_count": 7,
   "id": "7779807c-29e7-4d96-b54a-bc906ce65243",
   "metadata": {
    "tags": []
   },
   "outputs": [
    {
     "data": {
      "text/plain": [
       "6     25\n",
       "7     25\n",
       "8     25\n",
       "9     25\n",
       "3     24\n",
       "10    23\n",
       "21    23\n",
       "15    22\n",
       "17    22\n",
       "25    22\n",
       "24    22\n",
       "23    22\n",
       "22    22\n",
       "18    22\n",
       "14    22\n",
       "2     22\n",
       "27    22\n",
       "13    22\n",
       "11    22\n",
       "5     22\n",
       "4     22\n",
       "26    22\n",
       "16    21\n",
       "20    21\n",
       "12    21\n",
       "19    20\n",
       "1     13\n",
       "28     4\n",
       "Name: season, dtype: int64"
      ]
     },
     "execution_count": 7,
     "metadata": {},
     "output_type": "execute_result"
    }
   ],
   "source": [
    "ep_df.season.value_counts()"
   ]
  },
  {
   "cell_type": "code",
   "execution_count": 8,
   "id": "fda6a7f9-4118-4313-a89e-113dfb7f9ffa",
   "metadata": {},
   "outputs": [],
   "source": [
    "good_season_episodes = ep_df[ep_df['season'] <= 12]"
   ]
  },
  {
   "cell_type": "code",
   "execution_count": 9,
   "id": "832e631b-fd70-4507-a11d-d77e8f3574cd",
   "metadata": {},
   "outputs": [],
   "source": [
    "good_df = df[df.episode_id.isin(good_season_episodes.id)]"
   ]
  },
  {
   "cell_type": "code",
   "execution_count": 10,
   "id": "5516a7d7-92f8-4466-b9d1-e4ce3538033a",
   "metadata": {
    "tags": []
   },
   "outputs": [
    {
     "data": {
      "text/plain": [
       "Homer Simpson          15346\n",
       "Bart Simpson            7501\n",
       "Marge Simpson           6721\n",
       "Lisa Simpson            5571\n",
       "C. Montgomery Burns     1827\n",
       "                       ...  \n",
       "Mutant Sideshow Mel        1\n",
       "Man At Bar                 1\n",
       "Little Girls               1\n",
       "Young Barney               1\n",
       "Passerby                   1\n",
       "Name: raw_character_text, Length: 3371, dtype: int64"
      ]
     },
     "execution_count": 10,
     "metadata": {},
     "output_type": "execute_result"
    }
   ],
   "source": [
    "good_df.raw_character_text.value_counts()"
   ]
  },
  {
   "cell_type": "markdown",
   "id": "258bd26c-7523-4867-9458-5ddb535f5241",
   "metadata": {},
   "source": [
    "K. So what does a pipeline look like here? \n",
    "\n",
    "Take script for good season. Sort it by episode and then by date. \n",
    "\n",
    "For (episode), go through and generate a \"prompt\": \"line... CHAR:\" ... \"completion\": \"text\" \n",
    "\n",
    "Trailing context - start with 5 lines, make this configurable\n",
    "\n",
    "For every line, if `raw_character_text` is not in top 50 characters, replace with \"NPC\""
   ]
  },
  {
   "cell_type": "code",
   "execution_count": 11,
   "id": "4460df89-27b8-450a-8b3d-6d7a0dea57ce",
   "metadata": {},
   "outputs": [],
   "source": [
    "good_df = good_df.sort_values(by='id')"
   ]
  },
  {
   "cell_type": "code",
   "execution_count": 12,
   "id": "a3348f89-ff93-4ce1-9e98-b1ef938d8d72",
   "metadata": {},
   "outputs": [],
   "source": [
    "good_df.raw_character_text = good_df.raw_character_text.fillna('Nobody')"
   ]
  },
  {
   "cell_type": "code",
   "execution_count": 13,
   "id": "f56a7ef8-3e85-4f52-bb4d-54491402a181",
   "metadata": {},
   "outputs": [
    {
     "data": {
      "text/plain": [
       "array(['Homer Simpson', 'Nobody', 'Bart Simpson', 'Marge Simpson',\n",
       "       'Lisa Simpson', 'C. Montgomery Burns', 'Seymour Skinner',\n",
       "       'Moe Szyslak', 'Ned Flanders', 'Grampa Simpson',\n",
       "       'Krusty the Clown', 'Chief Wiggum', 'Milhouse Van Houten',\n",
       "       'Waylon Smithers', 'Apu Nahasapeemapetilon', 'Kent Brockman',\n",
       "       'Nelson Muntz', 'Barney Gumble', 'Lenny Leonard',\n",
       "       'Edna Krabappel-Flanders', 'Sideshow Bob', 'Dr. Julius Hibbert',\n",
       "       'Selma Bouvier', 'Ralph Wiggum', 'Rev. Timothy Lovejoy', 'Crowd',\n",
       "       'Carl Carlson', 'Patty Bouvier', 'Mayor Joe Quimby', 'Otto Mann',\n",
       "       'Groundskeeper Willie', 'Martin Prince', 'Announcer',\n",
       "       'Comic Book Guy', 'Kids', 'Lionel Hutz', 'HERB', 'Sideshow Mel',\n",
       "       'Gary Chalmers', 'Professor Jonathan Frink', 'Jimbo Jones', 'Lou',\n",
       "       'Todd Flanders', 'Miss Hoover', 'Agnes Skinner', 'Maude Flanders',\n",
       "       'Troy McClure', 'Fat Tony', 'Snake Jailbird', 'TROY'], dtype=object)"
      ]
     },
     "execution_count": 13,
     "metadata": {},
     "output_type": "execute_result"
    }
   ],
   "source": [
    "good_df.raw_character_text.value_counts()[:50].index.values"
   ]
  },
  {
   "cell_type": "code",
   "execution_count": 14,
   "id": "b7a87505-4b34-4ebd-9db4-172b727ab521",
   "metadata": {},
   "outputs": [],
   "source": [
    "import numpy as np"
   ]
  },
  {
   "cell_type": "markdown",
   "id": "61d12059-ba8f-41de-9c57-e0785ed3c5cf",
   "metadata": {},
   "source": [
    "This fills in actions"
   ]
  },
  {
   "cell_type": "code",
   "execution_count": 15,
   "id": "4a41cf47-fd7d-46a1-a026-5644b4fd03e3",
   "metadata": {},
   "outputs": [],
   "source": [
    "good_df.spoken_words = good_df.spoken_words.fillna('nan')"
   ]
  },
  {
   "cell_type": "code",
   "execution_count": 16,
   "id": "26d2fc16-2d25-438e-88ef-1ce0c3f97614",
   "metadata": {},
   "outputs": [],
   "source": [
    "sub_df = good_df[good_df.apply(lambda r: r.spoken_words == 'nan' and r.raw_character_text != 'Nobody', axis=1)]"
   ]
  },
  {
   "cell_type": "code",
   "execution_count": 17,
   "id": "73534827-799d-42ae-8f4c-abb5219f2dc8",
   "metadata": {},
   "outputs": [],
   "source": [
    "new_spoken_words = sub_df.apply(lambda r: r.raw_text.split(\":\")[1], axis=1)"
   ]
  },
  {
   "cell_type": "code",
   "execution_count": 18,
   "id": "c678b80f-0bc7-4f72-8d15-7f03432ae2b3",
   "metadata": {},
   "outputs": [],
   "source": [
    "def add_actions(r):\n",
    "    if r.spoken_words == 'nan' and r.raw_character_text != 'Nobody':\n",
    "        return r.raw_text.split(\":\")[-1]\n",
    "    return r.spoken_words"
   ]
  },
  {
   "cell_type": "code",
   "execution_count": 19,
   "id": "9036eff5-c4b3-46a6-b45d-62db6925c45e",
   "metadata": {},
   "outputs": [],
   "source": [
    "good_df.spoken_words = good_df.apply(lambda r: add_actions(r), axis=1)"
   ]
  },
  {
   "cell_type": "markdown",
   "id": "685e4488-0fa1-462d-a97d-cd9c66c42237",
   "metadata": {},
   "source": [
    "Next, we want to figure out how many tokens are in a set of lines"
   ]
  },
  {
   "cell_type": "code",
   "execution_count": 20,
   "id": "063f70da-99aa-43be-9394-8d9b6d1eb986",
   "metadata": {},
   "outputs": [
    {
     "name": "stderr",
     "output_type": "stream",
     "text": [
      "None of PyTorch, TensorFlow >= 2.0, or Flax have been found. Models won't be available and only tokenizers, configuration and file/data utilities can be used.\n"
     ]
    }
   ],
   "source": [
    "import transformers"
   ]
  },
  {
   "cell_type": "code",
   "execution_count": 21,
   "id": "a31db99b-ae5f-42be-999f-9097e0d9e6c6",
   "metadata": {},
   "outputs": [],
   "source": [
    "from transformers import AutoTokenizer"
   ]
  },
  {
   "cell_type": "markdown",
   "id": "21076049-f95d-4013-915b-d8cd8b88cb81",
   "metadata": {},
   "source": [
    "llama is finicky, this is basically the same"
   ]
  },
  {
   "cell_type": "code",
   "execution_count": 22,
   "id": "1b93ce72-a712-4efd-8bca-856385ab488c",
   "metadata": {},
   "outputs": [
    {
     "data": {
      "application/vnd.jupyter.widget-view+json": {
       "model_id": "6898e567a8984579974d39dfb938c4c5",
       "version_major": 2,
       "version_minor": 0
      },
      "text/plain": [
       "tokenizer_config.json:   0%|          | 0.00/2.54k [00:00<?, ?B/s]"
      ]
     },
     "metadata": {},
     "output_type": "display_data"
    },
    {
     "name": "stderr",
     "output_type": "stream",
     "text": [
      "C:\\Users\\kruti\\AppData\\Roaming\\Python\\Python311\\site-packages\\huggingface_hub\\file_download.py:157: UserWarning: `huggingface_hub` cache-system uses symlinks by default to efficiently store duplicated files but your machine does not support them in C:\\Users\\kruti\\.cache\\huggingface\\hub\\models--google--flan-t5-xl. Caching files will still work but in a degraded version that might require more space on your disk. This warning can be disabled by setting the `HF_HUB_DISABLE_SYMLINKS_WARNING` environment variable. For more details, see https://huggingface.co/docs/huggingface_hub/how-to-cache#limitations.\n",
      "To support symlinks on Windows, you either need to activate Developer Mode or to run Python as an administrator. In order to see activate developer mode, see this article: https://docs.microsoft.com/en-us/windows/apps/get-started/enable-your-device-for-development\n",
      "  warnings.warn(message)\n"
     ]
    },
    {
     "data": {
      "application/vnd.jupyter.widget-view+json": {
       "model_id": "29664f35dbca41fbb407b2bed2490295",
       "version_major": 2,
       "version_minor": 0
      },
      "text/plain": [
       "spiece.model:   0%|          | 0.00/792k [00:00<?, ?B/s]"
      ]
     },
     "metadata": {},
     "output_type": "display_data"
    },
    {
     "data": {
      "application/vnd.jupyter.widget-view+json": {
       "model_id": "f4154726ab1a42b4b99c0b089bc4f2cd",
       "version_major": 2,
       "version_minor": 0
      },
      "text/plain": [
       "tokenizer.json:   0%|          | 0.00/2.42M [00:00<?, ?B/s]"
      ]
     },
     "metadata": {},
     "output_type": "display_data"
    },
    {
     "data": {
      "application/vnd.jupyter.widget-view+json": {
       "model_id": "55e1bda640c046b397d2d547353072a4",
       "version_major": 2,
       "version_minor": 0
      },
      "text/plain": [
       "special_tokens_map.json:   0%|          | 0.00/2.20k [00:00<?, ?B/s]"
      ]
     },
     "metadata": {},
     "output_type": "display_data"
    }
   ],
   "source": [
    "tok = AutoTokenizer.from_pretrained('google/flan-t5-xl')"
   ]
  },
  {
   "cell_type": "markdown",
   "id": "fa3db64b-d7c0-4104-8709-b1e744035a21",
   "metadata": {},
   "source": [
    "A token is basically a token"
   ]
  },
  {
   "cell_type": "code",
   "execution_count": 26,
   "id": "70599abc-4df8-471c-aa4a-776860585e99",
   "metadata": {},
   "outputs": [],
   "source": [
    "import numpy as np"
   ]
  },
  {
   "cell_type": "markdown",
   "id": "3ee4a45e-5fa6-4356-bc5c-6ff98ceeb217",
   "metadata": {},
   "source": [
    "How many lines does it take to get to 1500 tokens? "
   ]
  },
  {
   "cell_type": "code",
   "execution_count": 27,
   "id": "5fc792b8-96cf-48b7-b43d-96ede1b30986",
   "metadata": {},
   "outputs": [
    {
     "ename": "ImportError",
     "evalue": "Unable to convert output to PyTorch tensors format, PyTorch is not installed.",
     "output_type": "error",
     "traceback": [
      "\u001b[1;31m---------------------------------------------------------------------------\u001b[0m",
      "\u001b[1;31mImportError\u001b[0m                               Traceback (most recent call last)",
      "Cell \u001b[1;32mIn[27], line 8\u001b[0m\n\u001b[0;32m      6\u001b[0m text \u001b[38;5;241m=\u001b[39m good_df\u001b[38;5;241m.\u001b[39miloc[n]\u001b[38;5;241m.\u001b[39mspoken_words\n\u001b[0;32m      7\u001b[0m \u001b[38;5;66;03m#print(f'text: {text}')\u001b[39;00m\n\u001b[1;32m----> 8\u001b[0m tokenized \u001b[38;5;241m=\u001b[39m tok(text, return_tensors\u001b[38;5;241m=\u001b[39m\u001b[38;5;124m'\u001b[39m\u001b[38;5;124mpt\u001b[39m\u001b[38;5;124m'\u001b[39m)\u001b[38;5;241m.\u001b[39minput_ids\n\u001b[0;32m      9\u001b[0m \u001b[38;5;66;03m#print(f'tokenized {tokenized}')\u001b[39;00m\n\u001b[0;32m     10\u001b[0m n_tokens \u001b[38;5;241m+\u001b[39m\u001b[38;5;241m=\u001b[39m tokenized\u001b[38;5;241m.\u001b[39mshape[\u001b[38;5;241m1\u001b[39m]\n",
      "File \u001b[1;32m~\\AppData\\Roaming\\Python\\Python311\\site-packages\\transformers\\tokenization_utils_base.py:2883\u001b[0m, in \u001b[0;36mPreTrainedTokenizerBase.__call__\u001b[1;34m(self, text, text_pair, text_target, text_pair_target, add_special_tokens, padding, truncation, max_length, stride, is_split_into_words, pad_to_multiple_of, return_tensors, return_token_type_ids, return_attention_mask, return_overflowing_tokens, return_special_tokens_mask, return_offsets_mapping, return_length, verbose, **kwargs)\u001b[0m\n\u001b[0;32m   2881\u001b[0m     \u001b[38;5;28;01mif\u001b[39;00m \u001b[38;5;129;01mnot\u001b[39;00m \u001b[38;5;28mself\u001b[39m\u001b[38;5;241m.\u001b[39m_in_target_context_manager:\n\u001b[0;32m   2882\u001b[0m         \u001b[38;5;28mself\u001b[39m\u001b[38;5;241m.\u001b[39m_switch_to_input_mode()\n\u001b[1;32m-> 2883\u001b[0m     encodings \u001b[38;5;241m=\u001b[39m \u001b[38;5;28mself\u001b[39m\u001b[38;5;241m.\u001b[39m_call_one(text\u001b[38;5;241m=\u001b[39mtext, text_pair\u001b[38;5;241m=\u001b[39mtext_pair, \u001b[38;5;241m*\u001b[39m\u001b[38;5;241m*\u001b[39mall_kwargs)\n\u001b[0;32m   2884\u001b[0m \u001b[38;5;28;01mif\u001b[39;00m text_target \u001b[38;5;129;01mis\u001b[39;00m \u001b[38;5;129;01mnot\u001b[39;00m \u001b[38;5;28;01mNone\u001b[39;00m:\n\u001b[0;32m   2885\u001b[0m     \u001b[38;5;28mself\u001b[39m\u001b[38;5;241m.\u001b[39m_switch_to_target_mode()\n",
      "File \u001b[1;32m~\\AppData\\Roaming\\Python\\Python311\\site-packages\\transformers\\tokenization_utils_base.py:2989\u001b[0m, in \u001b[0;36mPreTrainedTokenizerBase._call_one\u001b[1;34m(self, text, text_pair, add_special_tokens, padding, truncation, max_length, stride, is_split_into_words, pad_to_multiple_of, return_tensors, return_token_type_ids, return_attention_mask, return_overflowing_tokens, return_special_tokens_mask, return_offsets_mapping, return_length, verbose, **kwargs)\u001b[0m\n\u001b[0;32m   2969\u001b[0m     \u001b[38;5;28;01mreturn\u001b[39;00m \u001b[38;5;28mself\u001b[39m\u001b[38;5;241m.\u001b[39mbatch_encode_plus(\n\u001b[0;32m   2970\u001b[0m         batch_text_or_text_pairs\u001b[38;5;241m=\u001b[39mbatch_text_or_text_pairs,\n\u001b[0;32m   2971\u001b[0m         add_special_tokens\u001b[38;5;241m=\u001b[39madd_special_tokens,\n\u001b[1;32m   (...)\u001b[0m\n\u001b[0;32m   2986\u001b[0m         \u001b[38;5;241m*\u001b[39m\u001b[38;5;241m*\u001b[39mkwargs,\n\u001b[0;32m   2987\u001b[0m     )\n\u001b[0;32m   2988\u001b[0m \u001b[38;5;28;01melse\u001b[39;00m:\n\u001b[1;32m-> 2989\u001b[0m     \u001b[38;5;28;01mreturn\u001b[39;00m \u001b[38;5;28mself\u001b[39m\u001b[38;5;241m.\u001b[39mencode_plus(\n\u001b[0;32m   2990\u001b[0m         text\u001b[38;5;241m=\u001b[39mtext,\n\u001b[0;32m   2991\u001b[0m         text_pair\u001b[38;5;241m=\u001b[39mtext_pair,\n\u001b[0;32m   2992\u001b[0m         add_special_tokens\u001b[38;5;241m=\u001b[39madd_special_tokens,\n\u001b[0;32m   2993\u001b[0m         padding\u001b[38;5;241m=\u001b[39mpadding,\n\u001b[0;32m   2994\u001b[0m         truncation\u001b[38;5;241m=\u001b[39mtruncation,\n\u001b[0;32m   2995\u001b[0m         max_length\u001b[38;5;241m=\u001b[39mmax_length,\n\u001b[0;32m   2996\u001b[0m         stride\u001b[38;5;241m=\u001b[39mstride,\n\u001b[0;32m   2997\u001b[0m         is_split_into_words\u001b[38;5;241m=\u001b[39mis_split_into_words,\n\u001b[0;32m   2998\u001b[0m         pad_to_multiple_of\u001b[38;5;241m=\u001b[39mpad_to_multiple_of,\n\u001b[0;32m   2999\u001b[0m         return_tensors\u001b[38;5;241m=\u001b[39mreturn_tensors,\n\u001b[0;32m   3000\u001b[0m         return_token_type_ids\u001b[38;5;241m=\u001b[39mreturn_token_type_ids,\n\u001b[0;32m   3001\u001b[0m         return_attention_mask\u001b[38;5;241m=\u001b[39mreturn_attention_mask,\n\u001b[0;32m   3002\u001b[0m         return_overflowing_tokens\u001b[38;5;241m=\u001b[39mreturn_overflowing_tokens,\n\u001b[0;32m   3003\u001b[0m         return_special_tokens_mask\u001b[38;5;241m=\u001b[39mreturn_special_tokens_mask,\n\u001b[0;32m   3004\u001b[0m         return_offsets_mapping\u001b[38;5;241m=\u001b[39mreturn_offsets_mapping,\n\u001b[0;32m   3005\u001b[0m         return_length\u001b[38;5;241m=\u001b[39mreturn_length,\n\u001b[0;32m   3006\u001b[0m         verbose\u001b[38;5;241m=\u001b[39mverbose,\n\u001b[0;32m   3007\u001b[0m         \u001b[38;5;241m*\u001b[39m\u001b[38;5;241m*\u001b[39mkwargs,\n\u001b[0;32m   3008\u001b[0m     )\n",
      "File \u001b[1;32m~\\AppData\\Roaming\\Python\\Python311\\site-packages\\transformers\\tokenization_utils_base.py:3062\u001b[0m, in \u001b[0;36mPreTrainedTokenizerBase.encode_plus\u001b[1;34m(self, text, text_pair, add_special_tokens, padding, truncation, max_length, stride, is_split_into_words, pad_to_multiple_of, return_tensors, return_token_type_ids, return_attention_mask, return_overflowing_tokens, return_special_tokens_mask, return_offsets_mapping, return_length, verbose, **kwargs)\u001b[0m\n\u001b[0;32m   3052\u001b[0m \u001b[38;5;66;03m# Backward compatibility for 'truncation_strategy', 'pad_to_max_length'\u001b[39;00m\n\u001b[0;32m   3053\u001b[0m padding_strategy, truncation_strategy, max_length, kwargs \u001b[38;5;241m=\u001b[39m \u001b[38;5;28mself\u001b[39m\u001b[38;5;241m.\u001b[39m_get_padding_truncation_strategies(\n\u001b[0;32m   3054\u001b[0m     padding\u001b[38;5;241m=\u001b[39mpadding,\n\u001b[0;32m   3055\u001b[0m     truncation\u001b[38;5;241m=\u001b[39mtruncation,\n\u001b[1;32m   (...)\u001b[0m\n\u001b[0;32m   3059\u001b[0m     \u001b[38;5;241m*\u001b[39m\u001b[38;5;241m*\u001b[39mkwargs,\n\u001b[0;32m   3060\u001b[0m )\n\u001b[1;32m-> 3062\u001b[0m \u001b[38;5;28;01mreturn\u001b[39;00m \u001b[38;5;28mself\u001b[39m\u001b[38;5;241m.\u001b[39m_encode_plus(\n\u001b[0;32m   3063\u001b[0m     text\u001b[38;5;241m=\u001b[39mtext,\n\u001b[0;32m   3064\u001b[0m     text_pair\u001b[38;5;241m=\u001b[39mtext_pair,\n\u001b[0;32m   3065\u001b[0m     add_special_tokens\u001b[38;5;241m=\u001b[39madd_special_tokens,\n\u001b[0;32m   3066\u001b[0m     padding_strategy\u001b[38;5;241m=\u001b[39mpadding_strategy,\n\u001b[0;32m   3067\u001b[0m     truncation_strategy\u001b[38;5;241m=\u001b[39mtruncation_strategy,\n\u001b[0;32m   3068\u001b[0m     max_length\u001b[38;5;241m=\u001b[39mmax_length,\n\u001b[0;32m   3069\u001b[0m     stride\u001b[38;5;241m=\u001b[39mstride,\n\u001b[0;32m   3070\u001b[0m     is_split_into_words\u001b[38;5;241m=\u001b[39mis_split_into_words,\n\u001b[0;32m   3071\u001b[0m     pad_to_multiple_of\u001b[38;5;241m=\u001b[39mpad_to_multiple_of,\n\u001b[0;32m   3072\u001b[0m     return_tensors\u001b[38;5;241m=\u001b[39mreturn_tensors,\n\u001b[0;32m   3073\u001b[0m     return_token_type_ids\u001b[38;5;241m=\u001b[39mreturn_token_type_ids,\n\u001b[0;32m   3074\u001b[0m     return_attention_mask\u001b[38;5;241m=\u001b[39mreturn_attention_mask,\n\u001b[0;32m   3075\u001b[0m     return_overflowing_tokens\u001b[38;5;241m=\u001b[39mreturn_overflowing_tokens,\n\u001b[0;32m   3076\u001b[0m     return_special_tokens_mask\u001b[38;5;241m=\u001b[39mreturn_special_tokens_mask,\n\u001b[0;32m   3077\u001b[0m     return_offsets_mapping\u001b[38;5;241m=\u001b[39mreturn_offsets_mapping,\n\u001b[0;32m   3078\u001b[0m     return_length\u001b[38;5;241m=\u001b[39mreturn_length,\n\u001b[0;32m   3079\u001b[0m     verbose\u001b[38;5;241m=\u001b[39mverbose,\n\u001b[0;32m   3080\u001b[0m     \u001b[38;5;241m*\u001b[39m\u001b[38;5;241m*\u001b[39mkwargs,\n\u001b[0;32m   3081\u001b[0m )\n",
      "File \u001b[1;32m~\\AppData\\Roaming\\Python\\Python311\\site-packages\\transformers\\tokenization_utils_fast.py:583\u001b[0m, in \u001b[0;36mPreTrainedTokenizerFast._encode_plus\u001b[1;34m(self, text, text_pair, add_special_tokens, padding_strategy, truncation_strategy, max_length, stride, is_split_into_words, pad_to_multiple_of, return_tensors, return_token_type_ids, return_attention_mask, return_overflowing_tokens, return_special_tokens_mask, return_offsets_mapping, return_length, verbose, **kwargs)\u001b[0m\n\u001b[0;32m    561\u001b[0m \u001b[38;5;28;01mdef\u001b[39;00m \u001b[38;5;21m_encode_plus\u001b[39m(\n\u001b[0;32m    562\u001b[0m     \u001b[38;5;28mself\u001b[39m,\n\u001b[0;32m    563\u001b[0m     text: Union[TextInput, PreTokenizedInput],\n\u001b[1;32m   (...)\u001b[0m\n\u001b[0;32m    580\u001b[0m     \u001b[38;5;241m*\u001b[39m\u001b[38;5;241m*\u001b[39mkwargs,\n\u001b[0;32m    581\u001b[0m ) \u001b[38;5;241m-\u001b[39m\u001b[38;5;241m>\u001b[39m BatchEncoding:\n\u001b[0;32m    582\u001b[0m     batched_input \u001b[38;5;241m=\u001b[39m [(text, text_pair)] \u001b[38;5;28;01mif\u001b[39;00m text_pair \u001b[38;5;28;01melse\u001b[39;00m [text]\n\u001b[1;32m--> 583\u001b[0m     batched_output \u001b[38;5;241m=\u001b[39m \u001b[38;5;28mself\u001b[39m\u001b[38;5;241m.\u001b[39m_batch_encode_plus(\n\u001b[0;32m    584\u001b[0m         batched_input,\n\u001b[0;32m    585\u001b[0m         is_split_into_words\u001b[38;5;241m=\u001b[39mis_split_into_words,\n\u001b[0;32m    586\u001b[0m         add_special_tokens\u001b[38;5;241m=\u001b[39madd_special_tokens,\n\u001b[0;32m    587\u001b[0m         padding_strategy\u001b[38;5;241m=\u001b[39mpadding_strategy,\n\u001b[0;32m    588\u001b[0m         truncation_strategy\u001b[38;5;241m=\u001b[39mtruncation_strategy,\n\u001b[0;32m    589\u001b[0m         max_length\u001b[38;5;241m=\u001b[39mmax_length,\n\u001b[0;32m    590\u001b[0m         stride\u001b[38;5;241m=\u001b[39mstride,\n\u001b[0;32m    591\u001b[0m         pad_to_multiple_of\u001b[38;5;241m=\u001b[39mpad_to_multiple_of,\n\u001b[0;32m    592\u001b[0m         return_tensors\u001b[38;5;241m=\u001b[39mreturn_tensors,\n\u001b[0;32m    593\u001b[0m         return_token_type_ids\u001b[38;5;241m=\u001b[39mreturn_token_type_ids,\n\u001b[0;32m    594\u001b[0m         return_attention_mask\u001b[38;5;241m=\u001b[39mreturn_attention_mask,\n\u001b[0;32m    595\u001b[0m         return_overflowing_tokens\u001b[38;5;241m=\u001b[39mreturn_overflowing_tokens,\n\u001b[0;32m    596\u001b[0m         return_special_tokens_mask\u001b[38;5;241m=\u001b[39mreturn_special_tokens_mask,\n\u001b[0;32m    597\u001b[0m         return_offsets_mapping\u001b[38;5;241m=\u001b[39mreturn_offsets_mapping,\n\u001b[0;32m    598\u001b[0m         return_length\u001b[38;5;241m=\u001b[39mreturn_length,\n\u001b[0;32m    599\u001b[0m         verbose\u001b[38;5;241m=\u001b[39mverbose,\n\u001b[0;32m    600\u001b[0m         \u001b[38;5;241m*\u001b[39m\u001b[38;5;241m*\u001b[39mkwargs,\n\u001b[0;32m    601\u001b[0m     )\n\u001b[0;32m    603\u001b[0m     \u001b[38;5;66;03m# Return tensor is None, then we can remove the leading batch axis\u001b[39;00m\n\u001b[0;32m    604\u001b[0m     \u001b[38;5;66;03m# Overflowing tokens are returned as a batch of output so we keep them in this case\u001b[39;00m\n\u001b[0;32m    605\u001b[0m     \u001b[38;5;28;01mif\u001b[39;00m return_tensors \u001b[38;5;129;01mis\u001b[39;00m \u001b[38;5;28;01mNone\u001b[39;00m \u001b[38;5;129;01mand\u001b[39;00m \u001b[38;5;129;01mnot\u001b[39;00m return_overflowing_tokens:\n",
      "File \u001b[1;32m~\\AppData\\Roaming\\Python\\Python311\\site-packages\\transformers\\tokenization_utils_fast.py:559\u001b[0m, in \u001b[0;36mPreTrainedTokenizerFast._batch_encode_plus\u001b[1;34m(self, batch_text_or_text_pairs, add_special_tokens, padding_strategy, truncation_strategy, max_length, stride, is_split_into_words, pad_to_multiple_of, return_tensors, return_token_type_ids, return_attention_mask, return_overflowing_tokens, return_special_tokens_mask, return_offsets_mapping, return_length, verbose)\u001b[0m\n\u001b[0;32m    557\u001b[0m \u001b[38;5;28;01mfor\u001b[39;00m input_ids \u001b[38;5;129;01min\u001b[39;00m sanitized_tokens[\u001b[38;5;124m\"\u001b[39m\u001b[38;5;124minput_ids\u001b[39m\u001b[38;5;124m\"\u001b[39m]:\n\u001b[0;32m    558\u001b[0m     \u001b[38;5;28mself\u001b[39m\u001b[38;5;241m.\u001b[39m_eventual_warn_about_too_long_sequence(input_ids, max_length, verbose)\n\u001b[1;32m--> 559\u001b[0m \u001b[38;5;28;01mreturn\u001b[39;00m BatchEncoding(sanitized_tokens, sanitized_encodings, tensor_type\u001b[38;5;241m=\u001b[39mreturn_tensors)\n",
      "File \u001b[1;32m~\\AppData\\Roaming\\Python\\Python311\\site-packages\\transformers\\tokenization_utils_base.py:224\u001b[0m, in \u001b[0;36mBatchEncoding.__init__\u001b[1;34m(self, data, encoding, tensor_type, prepend_batch_axis, n_sequences)\u001b[0m\n\u001b[0;32m    220\u001b[0m     n_sequences \u001b[38;5;241m=\u001b[39m encoding[\u001b[38;5;241m0\u001b[39m]\u001b[38;5;241m.\u001b[39mn_sequences\n\u001b[0;32m    222\u001b[0m \u001b[38;5;28mself\u001b[39m\u001b[38;5;241m.\u001b[39m_n_sequences \u001b[38;5;241m=\u001b[39m n_sequences\n\u001b[1;32m--> 224\u001b[0m \u001b[38;5;28mself\u001b[39m\u001b[38;5;241m.\u001b[39mconvert_to_tensors(tensor_type\u001b[38;5;241m=\u001b[39mtensor_type, prepend_batch_axis\u001b[38;5;241m=\u001b[39mprepend_batch_axis)\n",
      "File \u001b[1;32m~\\AppData\\Roaming\\Python\\Python311\\site-packages\\transformers\\tokenization_utils_base.py:713\u001b[0m, in \u001b[0;36mBatchEncoding.convert_to_tensors\u001b[1;34m(self, tensor_type, prepend_batch_axis)\u001b[0m\n\u001b[0;32m    711\u001b[0m \u001b[38;5;28;01melif\u001b[39;00m tensor_type \u001b[38;5;241m==\u001b[39m TensorType\u001b[38;5;241m.\u001b[39mPYTORCH:\n\u001b[0;32m    712\u001b[0m     \u001b[38;5;28;01mif\u001b[39;00m \u001b[38;5;129;01mnot\u001b[39;00m is_torch_available():\n\u001b[1;32m--> 713\u001b[0m         \u001b[38;5;28;01mraise\u001b[39;00m \u001b[38;5;167;01mImportError\u001b[39;00m(\u001b[38;5;124m\"\u001b[39m\u001b[38;5;124mUnable to convert output to PyTorch tensors format, PyTorch is not installed.\u001b[39m\u001b[38;5;124m\"\u001b[39m)\n\u001b[0;32m    714\u001b[0m     \u001b[38;5;28;01mimport\u001b[39;00m \u001b[38;5;21;01mtorch\u001b[39;00m\n\u001b[0;32m    716\u001b[0m     is_tensor \u001b[38;5;241m=\u001b[39m torch\u001b[38;5;241m.\u001b[39mis_tensor\n",
      "\u001b[1;31mImportError\u001b[0m: Unable to convert output to PyTorch tensors format, PyTorch is not installed."
     ]
    }
   ],
   "source": [
    "for samp in range(2):\n",
    "    n = np.random.randint(good_df.shape[0])\n",
    "    orig_n = n\n",
    "    n_tokens = 0\n",
    "    while n_tokens < 1500:\n",
    "        text = good_df.iloc[n].spoken_words\n",
    "        #print(f'text: {text}')\n",
    "        tokenized = tok(text, return_tensors='pt').input_ids\n",
    "        #print(f'tokenized {tokenized}')\n",
    "        n_tokens += tokenized.shape[1]\n",
    "        n+=1\n",
    "    print(f'tokens: {n_tokens}')\n",
    "    print(f'n lines: {n - orig_n}')"
   ]
  },
  {
   "cell_type": "markdown",
   "id": "532abdee-ee5d-4c1d-8c4f-c70a588eec86",
   "metadata": {},
   "source": [
    "Calculate number of tokens. "
   ]
  },
  {
   "cell_type": "code",
   "execution_count": 28,
   "id": "ad0c7c5c-a7d8-4797-b9ea-50cfe6bb3195",
   "metadata": {},
   "outputs": [],
   "source": [
    "def max_scenes(df):\n",
    "    cur_scene = []\n",
    "    big_tuples = []\n",
    "    for ind, line in df.iterrows():\n",
    "        if line.raw_character_text == 'Nobody':\n",
    "            n_tokens = len(tok(' '.join(cur_scene))['input_ids'])\n",
    "            big_tuples.append((len(cur_scene), n_tokens))\n",
    "            cur_scene = []\n",
    "        else:\n",
    "            cur_scene.append(line.spoken_words)\n",
    "    return big_tuples"
   ]
  },
  {
   "cell_type": "code",
   "execution_count": 29,
   "id": "16782fb3-916a-463a-8607-19d8ba97d94c",
   "metadata": {},
   "outputs": [
    {
     "name": "stderr",
     "output_type": "stream",
     "text": [
      "Token indices sequence length is longer than the specified maximum sequence length for this model (673 > 512). Running this sequence through the model will result in indexing errors\n"
     ]
    }
   ],
   "source": [
    "res = max_scenes(good_df)"
   ]
  },
  {
   "cell_type": "code",
   "execution_count": 30,
   "id": "923077e0-de62-480e-940c-d52c41c3161b",
   "metadata": {},
   "outputs": [],
   "source": [
    "lines_per_scene = [val[0] for val in res if val[0] > 0 ]"
   ]
  },
  {
   "cell_type": "code",
   "execution_count": 31,
   "id": "2efb4bc9-506c-4577-b6ad-7d6499beb459",
   "metadata": {},
   "outputs": [],
   "source": [
    "total_tokens = sum([val[1] for val in res])"
   ]
  },
  {
   "cell_type": "code",
   "execution_count": 32,
   "id": "45c6bbdf-2bbf-4b2d-b889-92f61804a421",
   "metadata": {},
   "outputs": [
    {
     "data": {
      "text/plain": [
       "1113577"
      ]
     },
     "execution_count": 32,
     "metadata": {},
     "output_type": "execute_result"
    }
   ],
   "source": [
    "total_tokens"
   ]
  },
  {
   "cell_type": "code",
   "execution_count": 33,
   "id": "61f61355-7315-4a03-ae77-af926ef09d42",
   "metadata": {},
   "outputs": [],
   "source": [
    "tokens_per_scene = [val[1] for val in res if val[0] > 0 ]"
   ]
  },
  {
   "cell_type": "code",
   "execution_count": 34,
   "id": "c57fe2ef-c921-4024-bab8-1c11c731b8d8",
   "metadata": {},
   "outputs": [],
   "source": [
    "import matplotlib.pyplot as plt\n",
    "import seaborn as sns\n",
    "sns.set()"
   ]
  },
  {
   "cell_type": "code",
   "execution_count": 35,
   "id": "1ebfafe1-a837-4342-a9db-7e5e70dca337",
   "metadata": {},
   "outputs": [
    {
     "data": {
      "text/plain": [
       "Text(0.5, 1.0, 'Lines per scene in The Simpsons')"
      ]
     },
     "execution_count": 35,
     "metadata": {},
     "output_type": "execute_result"
    },
    {
     "data": {
      "image/png": "[encoded data removed]",
      "text/plain": [
       "<Figure size 640x480 with 1 Axes>"
      ]
     },
     "metadata": {},
     "output_type": "display_data"
    }
   ],
   "source": [
    "plt.hist(lines_per_scene, bins=np.arange(0, 70, 5))\n",
    "plt.xlabel('lines')\n",
    "plt.ylabel('scene count')\n",
    "plt.title('Lines per scene in The Simpsons')"
   ]
  },
  {
   "cell_type": "code",
   "execution_count": 36,
   "id": "d9a34bff-df62-49d1-9c06-5387f6947b32",
   "metadata": {},
   "outputs": [
    {
     "data": {
      "text/plain": [
       "Text(0.5, 1.0, 'Tokens per scene in The Simpsons')"
      ]
     },
     "execution_count": 36,
     "metadata": {},
     "output_type": "execute_result"
    },
    {
     "data": {
      "image/png": "[encoded data removed]",
      "text/plain": [
       "<Figure size 640x480 with 1 Axes>"
      ]
     },
     "metadata": {},
     "output_type": "display_data"
    }
   ],
   "source": [
    "plt.hist(tokens_per_scene, bins = np.arange(0,1500, 100))\n",
    "plt.xlabel('tokens')\n",
    "plt.ylabel('scene count')\n",
    "plt.title('Tokens per scene in The Simpsons')"
   ]
  },
  {
   "cell_type": "markdown",
   "id": "d06a0cfa-5a65-4a6f-8dd0-3f02cfd21082",
   "metadata": {},
   "source": [
    "I say let's take 50 lines. Still arbitrary. "
   ]
  },
  {
   "cell_type": "code",
   "execution_count": 37,
   "id": "cf9b7fc7-18cf-48c5-a6f5-304edce381d0",
   "metadata": {},
   "outputs": [],
   "source": [
    "CONTEXT_LINES = 50"
   ]
  },
  {
   "cell_type": "code",
   "execution_count": 38,
   "id": "9bbcb2dd-ae55-4740-bc62-1c3477347f8d",
   "metadata": {},
   "outputs": [],
   "source": [
    "def generate_data(df):\n",
    "    cur_scene = []\n",
    "    for ind, line in df.iterrows():\n",
    "        if line.raw_character_text == 'Nobody':\n",
    "            process_scene(cur_scene)\n",
    "            cur_scene = []\n",
    "        else:\n",
    "            cur_scene.append((line.raw_character_text, line.spoken_words))"
   ]
  },
  {
   "cell_type": "code",
   "execution_count": 39,
   "id": "16eef3c5-c0ea-46ed-b669-0696a6be0715",
   "metadata": {},
   "outputs": [],
   "source": [
    "data = []"
   ]
  },
  {
   "cell_type": "code",
   "execution_count": 40,
   "id": "68557f04-0c42-48cf-97f8-5e7fbd73f4dd",
   "metadata": {},
   "outputs": [],
   "source": [
    "def build_text(preamble):\n",
    "    return '\\n'.join([f\"{char}: {text}\" for char, text in preamble])\n",
    "\n",
    "def process_scene(cur_scene):\n",
    "    if len(cur_scene) <= 1:\n",
    "        return\n",
    "    for ind in range(1, len(cur_scene)):\n",
    "        prompt = build_text(cur_scene[max(0, ind-CONTEXT_LINES):ind])\n",
    "        cur_char, cur_text = cur_scene[ind]\n",
    "        data.append({'p': prompt, 'c': cur_char, 'l': cur_text})\n",
    "        \n",
    "        \n",
    "        "
   ]
  },
  {
   "cell_type": "code",
   "execution_count": null,
   "id": "c8626631-6599-4763-94b1-c4b095e55d68",
   "metadata": {
    "tags": []
   },
   "outputs": [],
   "source": [
    "generate_data(good_df)"
   ]
  },
  {
   "cell_type": "code",
   "execution_count": null,
   "id": "d5a08aea-d3a2-43ba-875c-caa7616faa3a",
   "metadata": {
    "tags": []
   },
   "outputs": [],
   "source": [
    "len(data)"
   ]
  },
  {
   "cell_type": "markdown",
   "id": "a1cf7b0a-5411-4a41-9d18-02d7dd156f0c",
   "metadata": {},
   "source": [
    "great, works. Fantastic, no notes. "
   ]
  },
  {
   "cell_type": "code",
   "execution_count": null,
   "id": "32ecb2d1-ed38-4cee-8e87-cae395b4b740",
   "metadata": {},
   "outputs": [],
   "source": [
    "with open('processed_conversations/simpsons_data_two.json', 'w') as f:\n",
    "    json.dump(data, f)"
   ]
  },
  {
   "cell_type": "code",
   "execution_count": null,
   "id": "8ccb0e1f-e895-41c0-817f-2aa53bc16185",
   "metadata": {},
   "outputs": [],
   "source": [
    "data[0]"
   ]
  },
  {
   "cell_type": "code",
   "execution_count": null,
   "id": "b94724b0-e5b5-476e-a451-dfb28193b255",
   "metadata": {},
   "outputs": [],
   "source": [
    "len(data)"
   ]
  },
  {
   "cell_type": "code",
   "execution_count": null,
   "id": "b8c56eb1-c919-43c2-9ede-adb120608db5",
   "metadata": {},
   "outputs": [],
   "source": [
    "import numpy as np"
   ]
  },
  {
   "cell_type": "code",
   "execution_count": null,
   "id": "42aecb1d-631f-4350-8d59-3e5153963983",
   "metadata": {
    "jupyter": {
     "outputs_hidden": true
    },
    "tags": []
   },
   "outputs": [],
   "source": [
    "for val in range(10):\n",
    "    print('\\n')\n",
    "    sample = data[np.random.randint(len(data))]\n",
    "    print(sample)"
   ]
  },
  {
   "cell_type": "code",
   "execution_count": null,
   "id": "bf3a7f05-e50d-41f5-a39a-80e309fe3941",
   "metadata": {},
   "outputs": [],
   "source": []
  }
 ],
 "metadata": {
  "kernelspec": {
   "display_name": "Python 3 (ipykernel)",
   "language": "python",
   "name": "python3"
  },
  "language_info": {
   "codemirror_mode": {
    "name": "ipython",
    "version": 3
   },
   "file_extension": ".py",
   "mimetype": "text/x-python",
   "name": "python",
   "nbconvert_exporter": "python",
   "pygments_lexer": "ipython3",
   "version": "3.11.4"
  }
 },
 "nbformat": 4,
 "nbformat_minor": 5
}
